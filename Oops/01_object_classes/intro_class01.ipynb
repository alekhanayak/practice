{
 "cells": [
  {
   "cell_type": "code",
   "execution_count": null,
   "metadata": {},
   "outputs": [],
   "source": [
    "ver = \"i am a photographer\"\n",
    "def alex():\n",
    "    return \"alex is a good photographer\"\n",
    "\n",
    "print(id(ver))#wrote binery code data\n",
    "print(id(alex))\n",
    "print(type(ver))#wrote which data type <class 'str'>\n",
    "print(type(alex))#wrote which data type <class 'function'>\n",
    "\n",
    "print(alex())# print function\n",
    "print(alex.__name__)#print function name\n",
    "print(ver)\n",
    "print(ver.upper())\n",
    "\n"
   ]
  }
 ],
 "metadata": {
  "language_info": {
   "name": "python"
  },
  "orig_nbformat": 4
 },
 "nbformat": 4,
 "nbformat_minor": 2
}
