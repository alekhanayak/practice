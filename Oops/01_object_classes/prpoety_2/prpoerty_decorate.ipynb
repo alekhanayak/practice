{
 "cells": [
  {
   "cell_type": "code",
   "execution_count": 16,
   "metadata": {},
   "outputs": [
    {
     "name": "stdout",
     "output_type": "stream",
     "text": [
      "about the detail am i  Alekha Nayak & 24\n",
      "about the detail am i  Amy Alex & 20\n"
     ]
    }
   ],
   "source": [
    "class About :\n",
    "    \n",
    "    def __init__(self,name,age):\n",
    "        self._name = name\n",
    "        self._age = age\n",
    "\n",
    "\n",
    "    def get_details(self):\n",
    "        return f\"about the detail am i  {self._name} & {self._age}\"\n",
    "\n",
    "\n",
    "alekha = About(name=\"alekha nayak\".title(),age=24)\n",
    "amy = About(name=\"amy alex\".title(),age=20)\n",
    "\n",
    "alekha.age = 30\n",
    "amy.name = \"happy\".capitalize()\n",
    "\n",
    "print(alekha.get_details())\n",
    "print(amy.get_details())"
   ]
  },
  {
   "cell_type": "code",
   "execution_count": 17,
   "metadata": {},
   "outputs": [
    {
     "name": "stdout",
     "output_type": "stream",
     "text": [
      "about the detail am i  Alekha Nayak & 30\n",
      "about the detail am i  Happy & 20\n"
     ]
    }
   ],
   "source": [
    "class About :\n",
    "    \n",
    "    def __init__(self,name,age):\n",
    "        self.name = name\n",
    "        self.age = age\n",
    "\n",
    "\n",
    "    def get_details(self):\n",
    "        return f\"about the detail am i  {self.name} & {self.age}\"\n",
    "\n",
    "\n",
    "alekha = About(name=\"alekha nayak\".title(),age=24)\n",
    "amy = About(name=\"amy alex\".title(),age=20)\n",
    "\n",
    "alekha.age = 30\n",
    "amy.name = \"happy\".capitalize()\n",
    "\n",
    "print(alekha.get_details())\n",
    "print(amy.get_details())"
   ]
  },
  {
   "cell_type": "code",
   "execution_count": 21,
   "metadata": {},
   "outputs": [
    {
     "name": "stdout",
     "output_type": "stream",
     "text": [
      "<property object at 0x00000281BA691C10>\n",
      "<property object at 0x00000281BA72F8D0>\n",
      "12\n",
      "i am a good  boy\n",
      "{'_Student__ages': 12, '_Student__names': 'i am a good  boy'}\n",
      "mappingproxy({'__dict__': <attribute '__dict__' of 'Student' objects>,\n",
      "              '__doc__': None,\n",
      "              '__init__': <function Student.__init__ at 0x00000281BA58A660>,\n",
      "              '__module__': '__main__',\n",
      "              '__weakref__': <attribute '__weakref__' of 'Student' objects>,\n",
      "              'ages': <property object at 0x00000281BA691C10>,\n",
      "              'get_age': <function Student.get_age at 0x00000281BA58BEC0>,\n",
      "              'get_name': <function Student.get_name at 0x00000281BA58B9C0>,\n",
      "              'names': <property object at 0x00000281BA72F8D0>,\n",
      "              'set_age': <function Student.set_age at 0x00000281BA58BE20>,\n",
      "              'set_name': <function Student.set_name at 0x00000281BA58B740>})\n"
     ]
    }
   ],
   "source": [
    "from pprint import pprint\n",
    "\n",
    "class Student:\n",
    "    def __init__(self,name,age):\n",
    "        self.__ages = age\n",
    "        self.__names = name\n",
    "\n",
    "    def set_age(self,age):\n",
    "        if not age :\n",
    "            raise ValueError('age is required!..')\n",
    "        else:\n",
    "            self.__ages = age\n",
    "    def get_age(self):\n",
    "        return self.__ages\n",
    "\n",
    "    def set_name(self,name):\n",
    "        if not name:\n",
    "            raise ValueError('name is required!..')\n",
    "        else:\n",
    "            self.__names = name\n",
    "\n",
    "    def get_name(self):\n",
    "        return self.__names\n",
    "\n",
    "    ages = property(fset=set_age,fget=get_age)\n",
    "    names = property(fset=set_name,fget=get_name)\n",
    "\n",
    "alekha = Student(name='alekha'.title(),age=23)\n",
    "alekha.ages =12\n",
    "alekha.names= 'i am a good  boy'\n",
    "print(Student.ages)\n",
    "print(Student.names)\n",
    "print(alekha.ages)\n",
    "print(alekha.names)\n",
    "\n",
    "pprint(alekha.__dict__)\n",
    "pprint(Student.__dict__)\n",
    "\n",
    "\n",
    "\n",
    "\n",
    "\n",
    "\n",
    "\n"
   ]
  },
  {
   "cell_type": "code",
   "execution_count": null,
   "metadata": {},
   "outputs": [],
   "source": []
  }
 ],
 "metadata": {
  "kernelspec": {
   "display_name": "Python 3",
   "language": "python",
   "name": "python3"
  },
  "language_info": {
   "codemirror_mode": {
    "name": "ipython",
    "version": 3
   },
   "file_extension": ".py",
   "mimetype": "text/x-python",
   "name": "python",
   "nbconvert_exporter": "python",
   "pygments_lexer": "ipython3",
   "version": "3.11.1"
  },
  "orig_nbformat": 4,
  "vscode": {
   "interpreter": {
    "hash": "0520da0c80da742f71c475ade54b595707b04678cb06f484a3f6a83b4953f0b3"
   }
  }
 },
 "nbformat": 4,
 "nbformat_minor": 2
}
