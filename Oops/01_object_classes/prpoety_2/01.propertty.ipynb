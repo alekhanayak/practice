{
 "cells": [
  {
   "cell_type": "code",
   "execution_count": 1,
   "metadata": {},
   "outputs": [
    {
     "name": "stdout",
     "output_type": "stream",
     "text": [
      "True\n",
      "universe\n",
      "I am universe my place I don't know and i am stay in 0 place and creter by God Of Universe\n",
      "I know peoples are inteligent.also capabilty to destroy the universe \n",
      "{'name': 'inteligent'}\n",
      "mappingproxy({'__dict__': <attribute '__dict__' of 'Profile' objects>,\n",
      "              '__doc__': None,\n",
      "              '__init__': <function Profile.__init__ at 0x000001C0DB2DC9A0>,\n",
      "              '__module__': '__main__',\n",
      "              '__weakref__': <attribute '__weakref__' of 'Profile' objects>,\n",
      "              'age': \"I don't know\",\n",
      "              'crater': 'God Of Universe',\n",
      "              'location': 0,\n",
      "              'my_think': <function Profile.my_think at 0x000001C0DB2DD760>,\n",
      "              'out_of_my_think': <function Profile.out_of_my_think at 0x000001C0DB2DD580>,\n",
      "              'people_think': <function Profile.people_think at 0x000001C0DB2DD940>})\n"
     ]
    }
   ],
   "source": [
    "from pprint import pprint\n",
    "\n",
    "global_acces = 'universe'\n",
    "\n",
    "class Profile:\n",
    "    # class instance or class attribute\n",
    "    age = \"i don't know\".capitalize()\n",
    "    location = 0\n",
    "    crater = 'god of universe'.title()\n",
    "\n",
    "    #instance attribute\n",
    "    def __init__(self,name:str):\n",
    "        self.name =name\n",
    "\n",
    "    #instance method\n",
    "    def my_think():\n",
    "        return global_acces\n",
    "\n",
    "    def out_of_my_think(self):\n",
    "        return f'I am {global_acces} my place {self.age} and i am stay in {self.location} place and creter by {self.crater}'\n",
    "\n",
    "    def people_think(self,confi):\n",
    "        return f\"I know peoples are {self.name}.also capabilty to {confi} \"\n",
    "\n",
    "profile=Profile('inteligent')\n",
    "print(isinstance(profile,Profile))\n",
    "print(Profile.my_think())\n",
    "print(profile.out_of_my_think())\n",
    "print(profile.people_think(confi='destroy the universe'))\n",
    "print(profile.__dict__)\n",
    "pprint(Profile.__dict__)\n",
    "\n",
    "\n"
   ]
  },
  {
   "cell_type": "code",
   "execution_count": 8,
   "metadata": {},
   "outputs": [
    {
     "name": "stdout",
     "output_type": "stream",
     "text": [
      "<property object at 0x000001C0DB3060C0>\n",
      "{'age': 22, 'name': 'Alekha'}\n",
      "mappingproxy({'__dict__': <attribute '__dict__' of 'Person' objects>,\n",
      "              '__doc__': None,\n",
      "              '__init__': <function Person.__init__ at 0x000001C0DB30F880>,\n",
      "              '__module__': '__main__',\n",
      "              '__weakref__': <attribute '__weakref__' of 'Person' objects>,\n",
      "              'ages': <property object at 0x000001C0DB3060C0>,\n",
      "              'get_age': <function Person.get_age at 0x000001C0DB85C540>,\n",
      "              'set_age': <function Person.set_age at 0x000001C0DB85CCC0>})\n"
     ]
    }
   ],
   "source": [
    "from pprint import pprint\n",
    "\n",
    "class Person:\n",
    "\n",
    "    def __init__(self,name,age):\n",
    "        self.name = name\n",
    "        self.age = age\n",
    "\n",
    "\n",
    "    def set_age(self,age):\n",
    "        if age <= 0:\n",
    "            raise ValueError('The age must be positive')\n",
    "        self._age =age\n",
    "\n",
    "    def get_age(self):\n",
    "        return self._age\n",
    "    \n",
    "    ages = property(fget=get_age,fset=set_age)\n",
    "\n",
    "\n",
    "print(Person.ages)\n",
    "alekha = Person('alekha'.capitalize(),22)\n",
    "pprint(alekha.__dict__)\n",
    "alekha.age = 23\n",
    "pprint(Person.__dict__)\n",
    "\n",
    "\n"
   ]
  }
 ],
 "metadata": {
  "kernelspec": {
   "display_name": "Python 3",
   "language": "python",
   "name": "python3"
  },
  "language_info": {
   "codemirror_mode": {
    "name": "ipython",
    "version": 3
   },
   "file_extension": ".py",
   "mimetype": "text/x-python",
   "name": "python",
   "nbconvert_exporter": "python",
   "pygments_lexer": "ipython3",
   "version": "3.11.1"
  },
  "orig_nbformat": 4,
  "vscode": {
   "interpreter": {
    "hash": "0520da0c80da742f71c475ade54b595707b04678cb06f484a3f6a83b4953f0b3"
   }
  }
 },
 "nbformat": 4,
 "nbformat_minor": 2
}
