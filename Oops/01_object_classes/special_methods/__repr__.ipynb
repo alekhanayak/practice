{
 "cells": [
  {
   "cell_type": "code",
   "execution_count": 11,
   "metadata": {},
   "outputs": [
    {
     "name": "stdout",
     "output_type": "stream",
     "text": [
      "i am nayak alekha\n",
      "i am from __repr__ function alekha\n",
      "<bound method About.__str__ of i am from __repr__ function alekha>\n",
      "About\n",
      "__main__\n",
      "This is a About class\n",
      "<attribute '__weakref__' of 'About' objects>\n",
      "mappingproxy({'__dict__': <attribute '__dict__' of 'About' objects>,\n",
      "              '__doc__': 'This is a About class',\n",
      "              '__init__': <function About.__init__ at 0x000001C12C480C20>,\n",
      "              '__module__': '__main__',\n",
      "              '__repr__': <function About.__repr__ at 0x000001C12C481800>,\n",
      "              '__str__': <function About.__str__ at 0x000001C12C4816C0>,\n",
      "              '__weakref__': <attribute '__weakref__' of 'About' objects>,\n",
      "              'get_details': <function About.get_details at 0x000001C12C480EA0>})\n"
     ]
    }
   ],
   "source": [
    "from pprint import pprint\n",
    "\n",
    "class About:\n",
    "    '''This is a About class'''\n",
    "    def __init__(self,name) -> None:\n",
    "        self.name = name\n",
    "    def get_details(self,name)->str:\n",
    "        return f'i am {name} {self.name}'\n",
    "\n",
    "    def __repr__(self) -> str:\n",
    "        return f'i am from __repr__ function {self.name}'\n",
    "    def __str__(self) -> str:\n",
    "        return self.name\n",
    "\n",
    "about = About('alekha')\n",
    "print(about.get_details('nayak'))\n",
    "print(repr(about))\n",
    "print(about.__str__)\n",
    "\n",
    "print(About.__name__)\n",
    "print(About.__module__)\n",
    "print(About.__doc__)\n",
    "print(About.__weakref__)\n",
    "pprint(About.__dict__)\n",
    "\n"
   ]
  }
 ],
 "metadata": {
  "kernelspec": {
   "display_name": "Python 3",
   "language": "python",
   "name": "python3"
  },
  "language_info": {
   "codemirror_mode": {
    "name": "ipython",
    "version": 3
   },
   "file_extension": ".py",
   "mimetype": "text/x-python",
   "name": "python",
   "nbconvert_exporter": "python",
   "pygments_lexer": "ipython3",
   "version": "3.11.1"
  },
  "orig_nbformat": 4,
  "vscode": {
   "interpreter": {
    "hash": "0520da0c80da742f71c475ade54b595707b04678cb06f484a3f6a83b4953f0b3"
   }
  }
 },
 "nbformat": 4,
 "nbformat_minor": 2
}
