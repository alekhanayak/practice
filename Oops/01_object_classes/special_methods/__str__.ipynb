{
 "cells": [
  {
   "cell_type": "code",
   "execution_count": 5,
   "metadata": {},
   "outputs": [
    {
     "name": "stdout",
     "output_type": "stream",
     "text": [
      "i am your dad\n",
      "if you bad i am your dad\n"
     ]
    }
   ],
   "source": [
    "from pprint import pprint\n",
    "\n",
    "class About:\n",
    "    \"\"\"this is a about class\"\"\"\n",
    "\n",
    "\n",
    "    def __init__(self,name)->None :\n",
    "        self.name = name\n",
    "\n",
    "    def get_Details(self,name) :\n",
    "        return f'i am {name} {self.name}' \n",
    "\n",
    "    def __str__(self) -> str:\n",
    "        return f'my name is {self.name}'\n",
    "\n",
    "    def __str__(self) -> str:\n",
    "        return f'if you bad i am your {self.name}'\n",
    "\n",
    "\n",
    "about = About('dad') ;\n",
    "\n",
    "print(about.get_Details('your'))\n",
    "\n",
    "print(str(about))\n"
   ]
  }
 ],
 "metadata": {
  "kernelspec": {
   "display_name": "Python 3",
   "language": "python",
   "name": "python3"
  },
  "language_info": {
   "codemirror_mode": {
    "name": "ipython",
    "version": 3
   },
   "file_extension": ".py",
   "mimetype": "text/x-python",
   "name": "python",
   "nbconvert_exporter": "python",
   "pygments_lexer": "ipython3",
   "version": "3.11.1"
  },
  "orig_nbformat": 4,
  "vscode": {
   "interpreter": {
    "hash": "0520da0c80da742f71c475ade54b595707b04678cb06f484a3f6a83b4953f0b3"
   }
  }
 },
 "nbformat": 4,
 "nbformat_minor": 2
}
